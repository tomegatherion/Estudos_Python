{
 "cells": [
  {
   "attachments": {},
   "cell_type": "markdown",
   "metadata": {},
   "source": [
    "# Funções\n",
    "\n",
    "### append()\n",
    "\n",
    "A função append é um método para adicionar um elemento ao final da lista existente.\n",
    "\n",
    "Exemplo:"
   ]
  },
  {
   "cell_type": "code",
   "execution_count": 1,
   "metadata": {},
   "outputs": [
    {
     "name": "stdout",
     "output_type": "stream",
     "text": [
      "[1, 2, 3, 4, 5, 6]\n"
     ]
    }
   ],
   "source": [
    "números = [1, 2, 3, 4, 5]\n",
    "números.append(6)\n",
    "print(números)"
   ]
  },
  {
   "cell_type": "code",
   "execution_count": 2,
   "metadata": {},
   "outputs": [
    {
     "name": "stdout",
     "output_type": "stream",
     "text": [
      "['maçã', 'banana', 'laranja']\n"
     ]
    }
   ],
   "source": [
    "frutas = ['maçã', 'banana']\n",
    "frutas.append('laranja')\n",
    "print(frutas)"
   ]
  },
  {
   "attachments": {},
   "cell_type": "markdown",
   "metadata": {},
   "source": [
    "### extend()\n",
    "\n",
    "A função extend() é um método para adicionar elementos de outra lista ao final da lista existente.\n",
    "\n",
    "Exemplo:"
   ]
  },
  {
   "cell_type": "code",
   "execution_count": 3,
   "metadata": {},
   "outputs": [
    {
     "name": "stdout",
     "output_type": "stream",
     "text": [
      "[1, 2, 3, 4, 5, 6]\n"
     ]
    }
   ],
   "source": [
    "números = [1, 2, 3]\n",
    "outros_números = [4, 5, 6]\n",
    "números.extend(outros_números)\n",
    "print(números) "
   ]
  },
  {
   "cell_type": "code",
   "execution_count": 4,
   "metadata": {},
   "outputs": [
    {
     "name": "stdout",
     "output_type": "stream",
     "text": [
      "['maçã', 'banana', 'laranja', 'manga']\n"
     ]
    }
   ],
   "source": [
    "frutas = ['maçã', 'banana']\n",
    "outras_frutas = ['laranja', 'manga']\n",
    "frutas.extend(outras_frutas)\n",
    "print(frutas)"
   ]
  },
  {
   "attachments": {},
   "cell_type": "markdown",
   "metadata": {},
   "source": [
    "### insert()\n",
    "\n",
    "A função insert() é um método para inserir um elemento em uma posição específica da lista.\n",
    "\n",
    "Sintaxe: insert(índice, elemento)\n",
    "Índice: O índice da posição em que se deseja inserir o elemento.\n",
    "Elemento: O elemento que se deseja inserir na lista.\n",
    "\n",
    "Exemplo:"
   ]
  },
  {
   "cell_type": "code",
   "execution_count": 5,
   "metadata": {},
   "outputs": [
    {
     "name": "stdout",
     "output_type": "stream",
     "text": [
      "[1, 2, 10, 3, 4, 5]\n"
     ]
    }
   ],
   "source": [
    "números = [1, 2, 3, 4, 5]\n",
    "números.insert(2, 10)\n",
    "print(números)"
   ]
  },
  {
   "cell_type": "code",
   "execution_count": 6,
   "metadata": {},
   "outputs": [
    {
     "name": "stdout",
     "output_type": "stream",
     "text": [
      "['maçã', 'laranja', 'banana']\n"
     ]
    }
   ],
   "source": [
    "frutas = ['maçã', 'banana']\n",
    "frutas.insert(1, 'laranja')\n",
    "print(frutas)"
   ]
  },
  {
   "attachments": {},
   "cell_type": "markdown",
   "metadata": {},
   "source": [
    "### remove()\n",
    "\n",
    "A função remove é um método utilizado para remover a primeira ocorrência de um elemento especifico da lista.\n",
    "\n",
    "Exemplo:"
   ]
  },
  {
   "cell_type": "code",
   "execution_count": 7,
   "metadata": {},
   "outputs": [
    {
     "name": "stdout",
     "output_type": "stream",
     "text": [
      "[1, 3, 4, 5, 2]\n"
     ]
    }
   ],
   "source": [
    "números = [1, 2, 3, 4, 5, 2]\n",
    "números.remove(2)\n",
    "print(números)"
   ]
  },
  {
   "cell_type": "code",
   "execution_count": 8,
   "metadata": {},
   "outputs": [
    {
     "name": "stdout",
     "output_type": "stream",
     "text": [
      "['banana', 'maçã']\n"
     ]
    }
   ],
   "source": [
    "frutas = ['maçã', 'banana', 'maçã']\n",
    "frutas.remove('maçã')\n",
    "print(frutas)"
   ]
  },
  {
   "attachments": {},
   "cell_type": "markdown",
   "metadata": {},
   "source": [
    "### pop()\n",
    "\n",
    "A função pop é um método para remover e retornar o elemento em uma posição específica da lista.\n",
    "\n",
    "Se nenhum índice for fornecido, o último elemento da lista será removido.\n",
    "\n",
    "Exemplo:"
   ]
  },
  {
   "cell_type": "code",
   "execution_count": 9,
   "metadata": {},
   "outputs": [
    {
     "name": "stdout",
     "output_type": "stream",
     "text": [
      "3\n",
      "[1, 2, 4, 5]\n"
     ]
    }
   ],
   "source": [
    "números = [1, 2, 3, 4, 5]\n",
    "elemento_removido = números.pop(2)\n",
    "print(elemento_removido)\n",
    "print(números)"
   ]
  },
  {
   "cell_type": "code",
   "execution_count": 10,
   "metadata": {},
   "outputs": [
    {
     "name": "stdout",
     "output_type": "stream",
     "text": [
      "laranja\n",
      "['maçã', 'banana']\n"
     ]
    }
   ],
   "source": [
    "frutas = ['maçã', 'banana', 'laranja']\n",
    "ultima_fruta = frutas.pop()\n",
    "print(ultima_fruta)\n",
    "print(frutas)"
   ]
  },
  {
   "attachments": {},
   "cell_type": "markdown",
   "metadata": {},
   "source": [
    "### index()\n",
    "\n",
    "A função index é um método para encontrar o índice da primeira ocorrência de um elemento específico na lista.\n",
    "\n",
    "Sintaxe: index(elemento, start, end)\n",
    "Elemento: O elemento que se deseja encontrar na lista.\n",
    "Start: O índice de inicio da busca na lista. - Opcional.\n",
    "End: O índice de término da busca na lista. - Opcional.\n",
    "\n",
    "Exemplo:"
   ]
  },
  {
   "cell_type": "code",
   "execution_count": 11,
   "metadata": {},
   "outputs": [
    {
     "name": "stdout",
     "output_type": "stream",
     "text": [
      "2\n"
     ]
    }
   ],
   "source": [
    "números = [1, 2, 3, 4, 5]\n",
    "índice = números.index(3)\n",
    "print(índice)"
   ]
  },
  {
   "cell_type": "code",
   "execution_count": 12,
   "metadata": {},
   "outputs": [
    {
     "name": "stdout",
     "output_type": "stream",
     "text": [
      "1\n"
     ]
    }
   ],
   "source": [
    "frutas = ['maçã', 'banana', 'laranja']\n",
    "índice = frutas.index('banana', 1, 3)\n",
    "print(índice)"
   ]
  },
  {
   "attachments": {},
   "cell_type": "markdown",
   "metadata": {},
   "source": [
    "### count()\n",
    "\n",
    "A função count() é um método para contar o número de ocorrências de um elemento específico na lista.\n",
    "\n",
    "Exemplo:"
   ]
  },
  {
   "cell_type": "code",
   "execution_count": 13,
   "metadata": {},
   "outputs": [
    {
     "name": "stdout",
     "output_type": "stream",
     "text": [
      "3\n"
     ]
    }
   ],
   "source": [
    "números = [1, 2, 2, 3, 2, 4, 5]\n",
    "ocorrências = números.count(2)\n",
    "print(ocorrências)"
   ]
  },
  {
   "cell_type": "code",
   "execution_count": 14,
   "metadata": {},
   "outputs": [
    {
     "name": "stdout",
     "output_type": "stream",
     "text": [
      "2\n"
     ]
    }
   ],
   "source": [
    "\n",
    "frutas = ['maçã', 'banana', 'laranja', 'banana']\n",
    "ocorrências = frutas.count('banana')\n",
    "print(ocorrências)"
   ]
  },
  {
   "attachments": {},
   "cell_type": "markdown",
   "metadata": {},
   "source": [
    "### sort()\n",
    "\n",
    "A função sort() é um método para ordenar os elementos na própria lista modificando-a em ordem crescente ou em uma ordem especificada.\n",
    "\n",
    "Caso deseje obter uma nova lista ordenada sem modificar a original, pesquise sobre a função sorted()."
   ]
  },
  {
   "cell_type": "code",
   "execution_count": 15,
   "metadata": {},
   "outputs": [
    {
     "name": "stdout",
     "output_type": "stream",
     "text": [
      "[1, 2, 3, 4, 5]\n"
     ]
    }
   ],
   "source": [
    "números = [3, 1, 4, 2, 5]\n",
    "números.sort()\n",
    "print(números)"
   ]
  },
  {
   "cell_type": "code",
   "execution_count": 16,
   "metadata": {},
   "outputs": [
    {
     "name": "stdout",
     "output_type": "stream",
     "text": [
      "['maçã', 'laranja', 'banana']\n"
     ]
    }
   ],
   "source": [
    "frutas = ['banana', 'maçã', 'laranja']\n",
    "frutas.sort(reverse=True)\n",
    "print(frutas)"
   ]
  },
  {
   "attachments": {},
   "cell_type": "markdown",
   "metadata": {},
   "source": [
    "### reverse()\n",
    "\n",
    "A função reverse() é um método que inverte a ordem dos elementos na própria lista modificando em ordem decrescent.\n",
    "\n",
    "Caso deseje obter uma nova lista ordenada sem modificar a original, pesquise sobre a função reversed()."
   ]
  },
  {
   "cell_type": "code",
   "execution_count": 17,
   "metadata": {},
   "outputs": [
    {
     "name": "stdout",
     "output_type": "stream",
     "text": [
      "[5, 4, 3, 2, 1]\n"
     ]
    }
   ],
   "source": [
    "números = [1, 2, 3, 4, 5]\n",
    "números.reverse()\n",
    "print(números)"
   ]
  }
 ],
 "metadata": {
  "kernelspec": {
   "display_name": "Python 3",
   "language": "python",
   "name": "python3"
  },
  "language_info": {
   "codemirror_mode": {
    "name": "ipython",
    "version": 3
   },
   "file_extension": ".py",
   "mimetype": "text/x-python",
   "name": "python",
   "nbconvert_exporter": "python",
   "pygments_lexer": "ipython3",
   "version": "3.11.1"
  },
  "orig_nbformat": 4
 },
 "nbformat": 4,
 "nbformat_minor": 2
}
