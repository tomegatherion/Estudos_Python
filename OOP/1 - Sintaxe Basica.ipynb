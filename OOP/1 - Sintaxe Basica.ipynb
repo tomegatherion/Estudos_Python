{
 "cells": [
  {
   "attachments": {},
   "cell_type": "markdown",
   "metadata": {},
   "source": [
    "# Sintaxe básica em Python\n",
    "\n",
    "A sintaxe básica em Python segue algumas regras e convenções para escrever código de forma correta e legível. Aqui estão alguns aspectos importantes da sintaxe básica em Python, juntamente com exemplos:\n",
    "\n",
    "### 1 - Indentação:\n",
    "\n",
    "Python utiliza a indentação para definir blocos de código. O código dentro de um mesmo bloco deve ter a mesma indentação (normalmente, 4 espaços em branco ou uma tabulação).\n",
    "\n",
    "Exemplo:"
   ]
  },
  {
   "cell_type": "code",
   "execution_count": 1,
   "metadata": {},
   "outputs": [
    {
     "name": "stdout",
     "output_type": "stream",
     "text": [
      "Você é maior de idade.\n"
     ]
    }
   ],
   "source": [
    "idade = 32\n",
    "if idade >= 18:\n",
    "    print(\"Você é maior de idade.\")\n",
    "else:\n",
    "    print(\"Você é menor de idade.\")"
   ]
  },
  {
   "attachments": {},
   "cell_type": "markdown",
   "metadata": {},
   "source": [
    "### 2 - Comentários:\n",
    "\n",
    "Os comentários são usados para explicar o código e são ignorados pelo interpretador Python.\n",
    "\n",
    "Os comentários de uma linha começam com o caractere #.\n",
    "\n",
    "Exemplo:"
   ]
  },
  {
   "cell_type": "code",
   "execution_count": 2,
   "metadata": {},
   "outputs": [],
   "source": [
    "# Este é um comentário de uma linha\n",
    "\n",
    "# Este é outro comentário de uma linha"
   ]
  },
  {
   "attachments": {},
   "cell_type": "markdown",
   "metadata": {},
   "source": [
    "### 3 - Declaração de variáveis:\n",
    "\n",
    "Em Python, você pode declarar variáveis atribuindo um valor a elas.\n",
    "O tipo da variável é inferido automaticamente.\n",
    "\n",
    "Exemplo:"
   ]
  },
  {
   "cell_type": "code",
   "execution_count": 3,
   "metadata": {},
   "outputs": [],
   "source": [
    "nome = \"João\"\n",
    "idade = 25\n",
    "altura = 1.75"
   ]
  },
  {
   "attachments": {},
   "cell_type": "markdown",
   "metadata": {},
   "source": [
    "### 4 - Impressão de saída:\n",
    "\n",
    "Você pode usar a função print() para exibir informações na saída padrão.\n",
    "\n",
    "Exemplo:"
   ]
  },
  {
   "cell_type": "code",
   "execution_count": 4,
   "metadata": {},
   "outputs": [
    {
     "name": "stdout",
     "output_type": "stream",
     "text": [
      "Meu nome é João e tenho 25 anos.\n"
     ]
    }
   ],
   "source": [
    "nome = \"João\"\n",
    "idade = 25\n",
    "print(\"Meu nome é\", nome, \"e tenho\", idade, \"anos.\")"
   ]
  },
  {
   "attachments": {},
   "cell_type": "markdown",
   "metadata": {},
   "source": [
    "### 5 - Estruturas condicionais:\n",
    "\n",
    "A estrutura if-else é usada para executar diferentes blocos de código com base em condições.\n",
    "\n",
    "Exemplo:"
   ]
  },
  {
   "cell_type": "code",
   "execution_count": 5,
   "metadata": {},
   "outputs": [
    {
     "name": "stdout",
     "output_type": "stream",
     "text": [
      "Você é maior de idade.\n"
     ]
    }
   ],
   "source": [
    "idade = 20\n",
    "if idade >= 18:\n",
    "    print(\"Você é maior de idade.\")\n",
    "else:\n",
    "    print(\"Você é menor de idade.\")"
   ]
  },
  {
   "attachments": {},
   "cell_type": "markdown",
   "metadata": {},
   "source": [
    "### 6 - Estruturas de repetição:\n",
    "\n",
    "O loop for é usado para iterar sobre uma sequência de elementos.\n",
    "\n",
    "Exemplo:"
   ]
  },
  {
   "cell_type": "code",
   "execution_count": 6,
   "metadata": {},
   "outputs": [
    {
     "name": "stdout",
     "output_type": "stream",
     "text": [
      "maçã\n",
      "banana\n",
      "laranja\n"
     ]
    }
   ],
   "source": [
    "frutas = [\"maçã\", \"banana\", \"laranja\"]\n",
    "for fruta in frutas:\n",
    "    print(fruta)"
   ]
  },
  {
   "attachments": {},
   "cell_type": "markdown",
   "metadata": {},
   "source": [
    "### 7 - Funções:\n",
    "\n",
    "Você pode definir suas próprias funções para realizar tarefas específicas.\n",
    "\n",
    "Exemplo:"
   ]
  },
  {
   "cell_type": "code",
   "execution_count": 7,
   "metadata": {},
   "outputs": [
    {
     "name": "stdout",
     "output_type": "stream",
     "text": [
      "Olá, João\n"
     ]
    }
   ],
   "source": [
    "def saudação(nome):\n",
    "    print(\"Olá,\", nome)\n",
    "\n",
    "saudação(\"João\")"
   ]
  }
 ],
 "metadata": {
  "kernelspec": {
   "display_name": "venv",
   "language": "python",
   "name": "python3"
  },
  "language_info": {
   "codemirror_mode": {
    "name": "ipython",
    "version": 3
   },
   "file_extension": ".py",
   "mimetype": "text/x-python",
   "name": "python",
   "nbconvert_exporter": "python",
   "pygments_lexer": "ipython3",
   "version": "3.11.1"
  },
  "orig_nbformat": 4
 },
 "nbformat": 4,
 "nbformat_minor": 2
}
