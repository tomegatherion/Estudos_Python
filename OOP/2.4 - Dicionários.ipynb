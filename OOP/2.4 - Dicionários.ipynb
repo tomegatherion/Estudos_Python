{
 "cells": [
  {
   "attachments": {},
   "cell_type": "markdown",
   "metadata": {},
   "source": [
    "### Criando Dicionários\n",
    "Dicionários são uma estrutura da dados em python que permitem armazenar pares de chave-valor.\n",
    "Eles são 'mapeamentos' porque associam uma chave a uma valor correspondente.\n",
    "\n",
    "Os dicionários são mutáveis\n",
    "\n",
    "Os dicionários são definidos utilizando chaves '{}'.\n",
    "\n",
    "Cada par de chave e valor é separado por dois pontos ':';\n",
    "\n",
    "Os pares de chave-valor são septados por vinculas.\n",
    "\n",
    "A chave e o valor podem ser de qualquer tipos que seja desde que a chave seja imutável como (strings, números ou tuplas).\n",
    "\n",
    "Exemplo de criação:"
   ]
  },
  {
   "cell_type": "code",
   "execution_count": 1,
   "metadata": {},
   "outputs": [],
   "source": [
    "dicionário = {'chave1': 'valor1', 'chave2': 'valor2', 'chave3': 'valor3'}"
   ]
  },
  {
   "attachments": {},
   "cell_type": "markdown",
   "metadata": {},
   "source": [
    "Acesso aos elementos do dicionários:\n",
    "\n",
    "Os valores em um dicionário são acessados utilizando a chave correspondente entre colchetes '{}'.\n",
    "\n",
    "Se a chave não existir no dicionário um erro 'KeyError' será gerado.\n",
    "\n",
    "Exemplo:"
   ]
  },
  {
   "cell_type": "code",
   "execution_count": 2,
   "metadata": {},
   "outputs": [
    {
     "name": "stdout",
     "output_type": "stream",
     "text": [
      "Meu nome é João tenho 25 anos de idade e moro em São Paulo\n"
     ]
    }
   ],
   "source": [
    "dicionário_1 = {'nome': 'João', 'idade': 25, 'cidade': 'São Paulo'}\n",
    "nome = dicionário_1['nome']\n",
    "idade = dicionário_1['idade']\n",
    "cidade = dicionário_1['cidade']\n",
    "\n",
    "print(f'Meu nome é {nome} tenho {idade} anos de idade e moro em {cidade}')"
   ]
  },
  {
   "attachments": {},
   "cell_type": "markdown",
   "metadata": {},
   "source": [
    "Exemplos de modificação de elementos:\n",
    "\n",
    "Para adicionar um novo por chave-valor ao dicionário, atribua um valor a uma nova chave.\n",
    "\n",
    "Para modificar um valor existente, atribua um novo valor à chave correspondente."
   ]
  },
  {
   "cell_type": "code",
   "execution_count": 3,
   "metadata": {},
   "outputs": [
    {
     "name": "stdout",
     "output_type": "stream",
     "text": [
      "Meu nome é João tenho 25 anos de idade, moro em São Paulo e sou Carioca\n"
     ]
    }
   ],
   "source": [
    "dicionário_1 = {'naturalidade': 'Carioca'}\n",
    "naturalidade = dicionário_1['naturalidade']\n",
    "\n",
    "print(f'Meu nome é {nome} tenho {idade} anos de idade, moro em {cidade} e sou {naturalidade}')"
   ]
  },
  {
   "cell_type": "code",
   "execution_count": 4,
   "metadata": {},
   "outputs": [
    {
     "name": "stdout",
     "output_type": "stream",
     "text": [
      "Meu nome é João Carlos tenho 27 anos de idade, moro em Brasília e sou Carioca\n"
     ]
    }
   ],
   "source": [
    "dicionário_1['nome'] = 'João Carlos'\n",
    "dicionário_1['idade'] = 27\n",
    "dicionário_1['cidade'] = 'Brasília'\n",
    "\n",
    "nome = dicionário_1['nome']\n",
    "idade = dicionário_1['idade']\n",
    "cidade = dicionário_1['cidade']\n",
    "\n",
    "print(f'Meu nome é {nome} tenho {idade} anos de idade, moro em {cidade} e sou {naturalidade}')"
   ]
  },
  {
   "attachments": {},
   "cell_type": "markdown",
   "metadata": {},
   "source": [
    "### Métodos\n",
    "\n",
    "keys()\n",
    "\n",
    "O método 'keys()' não possui argumentos, ou seja, ele é chamado e retorna uma lista com todas as chaves do dicionário."
   ]
  },
  {
   "cell_type": "code",
   "execution_count": 5,
   "metadata": {},
   "outputs": [
    {
     "name": "stdout",
     "output_type": "stream",
     "text": [
      "dict_keys(['naturalidade', 'nome', 'idade', 'cidade'])\n"
     ]
    }
   ],
   "source": [
    "print(dicionário_1.keys())"
   ]
  },
  {
   "attachments": {},
   "cell_type": "markdown",
   "metadata": {},
   "source": [
    "del()\n",
    "\n",
    "Utilize o comando 'del' seguido da chave apara remover um par chave-valor.\n",
    "\n",
    "Além disso, o del também pode ser usado para remover o próprio dicionário por completo, sem especificar uma chave. Nesse caso, a sintaxe seria simplesmente del dicionario."
   ]
  },
  {
   "cell_type": "code",
   "execution_count": 6,
   "metadata": {},
   "outputs": [
    {
     "name": "stdout",
     "output_type": "stream",
     "text": [
      "{'naturalidade': 'Carioca', 'nome': 'João Carlos', 'idade': 27, 'cidade': 'Brasília'}\n",
      "{'nome': 'João Carlos', 'idade': 27, 'cidade': 'Brasília'}\n"
     ]
    }
   ],
   "source": [
    "print(dicionário_1)\n",
    "del dicionário_1['naturalidade']\n",
    "print(dicionário_1)"
   ]
  },
  {
   "attachments": {},
   "cell_type": "markdown",
   "metadata": {},
   "source": [
    "values()\n",
    "\n",
    "O método values() retorna uma lista com todos os valores de dicionário."
   ]
  },
  {
   "cell_type": "code",
   "execution_count": 7,
   "metadata": {},
   "outputs": [
    {
     "name": "stdout",
     "output_type": "stream",
     "text": [
      "dict_values(['João Carlos', 27, 'Brasília'])\n"
     ]
    }
   ],
   "source": [
    "print(dicionário_1.values())"
   ]
  },
  {
   "attachments": {},
   "cell_type": "markdown",
   "metadata": {},
   "source": [
    "items()\n",
    "\n",
    "O método items() retorna uma lista de tuplas contendo todos os pares de chave valor."
   ]
  },
  {
   "cell_type": "code",
   "execution_count": 8,
   "metadata": {},
   "outputs": [
    {
     "name": "stdout",
     "output_type": "stream",
     "text": [
      "dict_items([('nome', 'João Carlos'), ('idade', 27), ('cidade', 'Brasília')])\n"
     ]
    }
   ],
   "source": [
    "print(dicionário_1.items())"
   ]
  },
  {
   "attachments": {},
   "cell_type": "markdown",
   "metadata": {},
   "source": [
    "get()\n",
    "\n",
    "O método get() é usado para obter um valor associado a uma chave específica do dicionário.\n",
    "\n",
    "Este método recebe dois argumentos, a 'chave' que se deseja obter o valor e um 'valor 'pradão' opcional.\n",
    "\n",
    "S a chave não existir no dicionário, o método retorna o 'valor padrão', se o 'valor padrão' não for fornecido o método retorna 'None'."
   ]
  },
  {
   "cell_type": "code",
   "execution_count": 9,
   "metadata": {},
   "outputs": [
    {
     "name": "stdout",
     "output_type": "stream",
     "text": [
      "João Carlos\n",
      "27\n",
      "None\n",
      "70\n"
     ]
    }
   ],
   "source": [
    "print(dicionário_1.get('nome'))\n",
    "print(dicionário_1.get('idade', 0))\n",
    "print(dicionário_1.get('altura'))\n",
    "print(dicionário_1.get('peso' , 70))"
   ]
  },
  {
   "attachments": {},
   "cell_type": "markdown",
   "metadata": {},
   "source": [
    "pop()\n",
    "\n",
    "O método pop() recebe dois argumentos a 'chave' que se deseja remover e um 'valor padrão' opcional.\n",
    "Ele remove a chave e retorna o valor associado a ela, se a chave não existir no dicionário o método retorna o 'valor padrão'.\n",
    "\n",
    "O método pop é útil quando de quer remover um item e ao mesmo tempo obter o valor associado a chave.\n",
    "\n",
    "É importante ressaltar que, ao contrário dos métodos get() e del(), o método pop() remove a chave do dicionário permanentemente\n",
    "\n"
   ]
  },
  {
   "cell_type": "code",
   "execution_count": 10,
   "metadata": {},
   "outputs": [
    {
     "name": "stdout",
     "output_type": "stream",
     "text": [
      "{'nome': 'João Carlos', 'idade': 27, 'cidade': 'Brasília'}\n",
      "Brasília\n",
      "0\n",
      "{'nome': 'João Carlos', 'idade': 27}\n"
     ]
    }
   ],
   "source": [
    "print(dicionário_1)\n",
    "print(dicionário_1.pop('cidade'))\n",
    "print(dicionário_1.pop('altura', 0))\n",
    "print(dicionário_1)"
   ]
  },
  {
   "attachments": {},
   "cell_type": "markdown",
   "metadata": {},
   "source": [
    "update()\n",
    "\n",
    "Este método é utilizado para atualizar um dicionário com os pares chave valor de outro dicionário.\n",
    "\n",
    "O método recebe um argumento 'iterável' que pode ser outro dicionário ou uma sequencia de pares chave-valor. \n",
    "\n",
    "É importante notar que se houver chaves duplicadas, o valor associado à última ocorrência da chave será mantido após a atualização."
   ]
  },
  {
   "cell_type": "code",
   "execution_count": 11,
   "metadata": {},
   "outputs": [
    {
     "name": "stdout",
     "output_type": "stream",
     "text": [
      "{'nome': 'Alessandra Borges', 'idade': 27, 'cidade': 'Campinas', 'profissão': 'Veterinária'}\n"
     ]
    }
   ],
   "source": [
    "dicionário_2 = {'nome': 'Alessandra', 'idade': 26, 'cidade': 'Campinas'}\n",
    "dicionário_3 = {'nome': 'Alessandra Borges', 'idade':27, 'cidade': 'Campinas', 'profissão': 'Veterinária'}\n",
    "dicionário_2.update(dicionário_3)\n",
    "print(dicionário_2)\n"
   ]
  },
  {
   "attachments": {},
   "cell_type": "markdown",
   "metadata": {},
   "source": [
    "clear()\n",
    "\n",
    "Este método é utilizado para remover todos os itens do dicionário deixando eles vazios."
   ]
  },
  {
   "cell_type": "code",
   "execution_count": 12,
   "metadata": {},
   "outputs": [
    {
     "name": "stdout",
     "output_type": "stream",
     "text": [
      "Estes são os itens do dicionário:\n",
      "{'chave1': 'valor1', 'chave2': 'valor2', 'chave3': 'valor3'}\n",
      "Estes são os itens do dicionário:\n",
      "{'nome': 'João Carlos', 'idade': 27}\n",
      "Estes são os itens do dicionário:\n",
      "{'nome': 'Alessandra Borges', 'idade': 27, 'cidade': 'Campinas', 'profissão': 'Veterinária'}\n",
      "Estes são os itens do dicionário:\n",
      "{'nome': 'Alessandra Borges', 'idade': 27, 'cidade': 'Campinas', 'profissão': 'Veterinária'}\n",
      "Agora com a execução do método clear os dicionários ficarão vazios.\n",
      "\n",
      "Estes são os itens do dicionário:\n",
      "{}\n",
      "Estes são os itens do dicionário:\n",
      "{}\n",
      "Estes são os itens do dicionário:\n",
      "{}\n",
      "Estes são os itens do dicionário:\n",
      "{}\n"
     ]
    }
   ],
   "source": [
    "print(f'Estes são os itens do dicionário:\\n{dicionário}')\n",
    "print(f'Estes são os itens do dicionário:\\n{dicionário_1}')\n",
    "print(f'Estes são os itens do dicionário:\\n{dicionário_2}')\n",
    "print(f'Estes são os itens do dicionário:\\n{dicionário_3}')\n",
    "\n",
    "dicionário.clear()\n",
    "dicionário_1.clear()\n",
    "dicionário_2.clear()\n",
    "dicionário_3.clear()\n",
    "\n",
    "print('Agora com a execução do método clear os dicionários ficarão vazios.\\n')\n",
    "\n",
    "print(f'Estes são os itens do dicionário:\\n{dicionário}')\n",
    "print(f'Estes são os itens do dicionário:\\n{dicionário_1}')\n",
    "print(f'Estes são os itens do dicionário:\\n{dicionário_2}')\n",
    "print(f'Estes são os itens do dicionário:\\n{dicionário_3}')"
   ]
  }
 ],
 "metadata": {
  "kernelspec": {
   "display_name": "venv",
   "language": "python",
   "name": "python3"
  },
  "language_info": {
   "codemirror_mode": {
    "name": "ipython",
    "version": 3
   },
   "file_extension": ".py",
   "mimetype": "text/x-python",
   "name": "python",
   "nbconvert_exporter": "python",
   "pygments_lexer": "ipython3",
   "version": "3.11.1"
  },
  "orig_nbformat": 4
 },
 "nbformat": 4,
 "nbformat_minor": 2
}
