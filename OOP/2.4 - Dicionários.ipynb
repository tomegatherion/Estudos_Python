{
 "cells": [
  {
   "attachments": {},
   "cell_type": "markdown",
   "metadata": {},
   "source": [
    "### Criando Dicionários\n",
    "Dicionários são uma estrutura da dados em python que permitem armazenar pares de chave-valor.\n",
    "Eles são 'mapeamentos' porque associam uma chave a uma valor correspondente.\n",
    "\n",
    "Os dicionários são mutáveis\n",
    "\n",
    "Os dicionários são definidos utilizando chaves '{}'.\n",
    "\n",
    "Cada par de chave e valor é separado por dois pontos ':';\n",
    "\n",
    "Os pares de chave-valor são septados por vinculas.\n",
    "\n",
    "A chave e o valor podem ser de qualquer tipos que seja desde que a chave seja imutável como (strings, números ou tuplas).\n",
    "\n",
    "Exemplo de criação:"
   ]
  },
  {
   "cell_type": "code",
   "execution_count": 1,
   "metadata": {},
   "outputs": [],
   "source": [
    "dicionário = {'chave1': 'valor1', 'chave2': 'valor2', 'chave3': 'valor3'}"
   ]
  },
  {
   "attachments": {},
   "cell_type": "markdown",
   "metadata": {},
   "source": [
    "Acesso aos elementos do dicionários:\n",
    "\n",
    "Os valores em um dicionário são acessados utilizando a chave correspondente entre colchetes '{}'.\n",
    "\n",
    "Se a chave não existir no dicionário um erro 'KeyError' será gerado.\n",
    "\n",
    "Exemplo:"
   ]
  },
  {
   "cell_type": "code",
   "execution_count": 2,
   "metadata": {},
   "outputs": [
    {
     "name": "stdout",
     "output_type": "stream",
     "text": [
      "Meu nome é João tenho 25 anos de idade e moro em São Paulo\n"
     ]
    }
   ],
   "source": [
    "dicionário_1 = {'nome': 'João', 'idade': 25, 'cidade': 'São Paulo'}\n",
    "nome = dicionário_1['nome']\n",
    "idade = dicionário_1['idade']\n",
    "cidade = dicionário_1['cidade']\n",
    "\n",
    "print(f'Meu nome é {nome} tenho {idade} anos de idade e moro em {cidade}')"
   ]
  },
  {
   "attachments": {},
   "cell_type": "markdown",
   "metadata": {},
   "source": [
    "Exemplos de modificação de elementos:\n",
    "\n",
    "Para adicionar um novo por chave-valor ao dicionário, atribua um valor a uma nova chave.\n",
    "\n",
    "Para modificar um valor existente, atribua um novo valor à chave correspondente."
   ]
  },
  {
   "cell_type": "code",
   "execution_count": 3,
   "metadata": {},
   "outputs": [
    {
     "name": "stdout",
     "output_type": "stream",
     "text": [
      "Meu nome é João tenho 25 anos de idade, moro em São Paulo e sou Carioca\n"
     ]
    }
   ],
   "source": [
    "dicionário_1 = {'naturalidade': 'Carioca'}\n",
    "naturalidade = dicionário_1['naturalidade']\n",
    "\n",
    "print(f'Meu nome é {nome} tenho {idade} anos de idade, moro em {cidade} e sou {naturalidade}')"
   ]
  },
  {
   "cell_type": "code",
   "execution_count": 4,
   "metadata": {},
   "outputs": [
    {
     "name": "stdout",
     "output_type": "stream",
     "text": [
      "Meu nome é João Carlos tenho 27 anos de idade, moro em Brasília e sou Carioca\n"
     ]
    }
   ],
   "source": [
    "dicionário_1['nome'] = 'João Carlos'\n",
    "dicionário_1['idade'] = 27\n",
    "dicionário_1['cidade'] = 'Brasília'\n",
    "\n",
    "nome = dicionário_1['nome']\n",
    "idade = dicionário_1['idade']\n",
    "cidade = dicionário_1['cidade']\n",
    "\n",
    "print(f'Meu nome é {nome} tenho {idade} anos de idade, moro em {cidade} e sou {naturalidade}')"
   ]
  }
 ],
 "metadata": {
  "kernelspec": {
   "display_name": "venv",
   "language": "python",
   "name": "python3"
  },
  "language_info": {
   "codemirror_mode": {
    "name": "ipython",
    "version": 3
   },
   "file_extension": ".py",
   "mimetype": "text/x-python",
   "name": "python",
   "nbconvert_exporter": "python",
   "pygments_lexer": "ipython3",
   "version": "3.11.1"
  },
  "orig_nbformat": 4
 },
 "nbformat": 4,
 "nbformat_minor": 2
}
