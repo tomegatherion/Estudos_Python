{
 "cells": [
  {
   "attachments": {},
   "cell_type": "markdown",
   "metadata": {},
   "source": [
    "### Métodos\n",
    "\n",
    "# keys()\n",
    "\n",
    "O método 'keys()' não possui argumentos, ou seja, ele é chamado e retorna uma lista com todas as chaves do dicionário."
   ]
  },
  {
   "cell_type": "code",
   "execution_count": 1,
   "metadata": {},
   "outputs": [
    {
     "ename": "NameError",
     "evalue": "name 'dicionário_1' is not defined",
     "output_type": "error",
     "traceback": [
      "\u001b[1;31m---------------------------------------------------------------------------\u001b[0m",
      "\u001b[1;31mNameError\u001b[0m                                 Traceback (most recent call last)",
      "Cell \u001b[1;32mIn[1], line 1\u001b[0m\n\u001b[1;32m----> 1\u001b[0m \u001b[39mprint\u001b[39m(dicionário_1\u001b[39m.\u001b[39mkeys())\n",
      "\u001b[1;31mNameError\u001b[0m: name 'dicionário_1' is not defined"
     ]
    }
   ],
   "source": [
    "print(dicionário_1.keys())"
   ]
  },
  {
   "attachments": {},
   "cell_type": "markdown",
   "metadata": {},
   "source": [
    "# del()\n",
    "\n",
    "Utilize o comando 'del' seguido da chave apara remover um par chave-valor.\n",
    "\n",
    "Além disso, o del também pode ser usado para remover o próprio dicionário por completo, sem especificar uma chave. Nesse caso, a sintaxe seria simplesmente del dicionario."
   ]
  },
  {
   "cell_type": "code",
   "execution_count": null,
   "metadata": {},
   "outputs": [],
   "source": [
    "print(dicionário_1)\n",
    "del dicionário_1['naturalidade']\n",
    "print(dicionário_1)"
   ]
  },
  {
   "attachments": {},
   "cell_type": "markdown",
   "metadata": {},
   "source": [
    "# values()\n",
    "\n",
    "O método values() retorna uma lista com todos os valores de dicionário."
   ]
  },
  {
   "cell_type": "code",
   "execution_count": null,
   "metadata": {},
   "outputs": [],
   "source": [
    "print(dicionário_1.values())"
   ]
  },
  {
   "attachments": {},
   "cell_type": "markdown",
   "metadata": {},
   "source": [
    "# items()\n",
    "\n",
    "O método items() retorna uma lista de tuplas contendo todos os pares de chave valor."
   ]
  },
  {
   "cell_type": "code",
   "execution_count": null,
   "metadata": {},
   "outputs": [],
   "source": [
    "print(dicionário_1.items())"
   ]
  },
  {
   "attachments": {},
   "cell_type": "markdown",
   "metadata": {},
   "source": [
    "# get()\n",
    "\n",
    "O método get() é usado para obter um valor associado a uma chave específica do dicionário.\n",
    "\n",
    "Este método recebe dois argumentos, a 'chave' que se deseja obter o valor e um 'valor 'pradão' opcional.\n",
    "\n",
    "S a chave não existir no dicionário, o método retorna o 'valor padrão', se o 'valor padrão' não for fornecido o método retorna 'None'."
   ]
  },
  {
   "cell_type": "code",
   "execution_count": null,
   "metadata": {},
   "outputs": [],
   "source": [
    "print(dicionário_1.get('nome'))\n",
    "print(dicionário_1.get('idade', 0))\n",
    "print(dicionário_1.get('altura'))\n",
    "print(dicionário_1.get('peso' , 70))"
   ]
  },
  {
   "attachments": {},
   "cell_type": "markdown",
   "metadata": {},
   "source": [
    "# pop()\n",
    "\n",
    "O método pop() recebe dois argumentos a 'chave' que se deseja remover e um 'valor padrão' opcional.\n",
    "Ele remove a chave e retorna o valor associado a ela, se a chave não existir no dicionário o método retorna o 'valor padrão'.\n",
    "\n",
    "O método pop é útil quando de quer remover um item e ao mesmo tempo obter o valor associado a chave.\n",
    "\n",
    "É importante ressaltar que, ao contrário dos métodos get() e del(), o método pop() remove a chave do dicionário permanentemente"
   ]
  },
  {
   "cell_type": "code",
   "execution_count": null,
   "metadata": {},
   "outputs": [],
   "source": [
    "print(dicionário_1)\n",
    "print(dicionário_1.pop('cidade'))\n",
    "print(dicionário_1.pop('altura', 0))\n",
    "print(dicionário_1)"
   ]
  },
  {
   "attachments": {},
   "cell_type": "markdown",
   "metadata": {},
   "source": [
    "# update()\n",
    "\n",
    "Este método é utilizado para atualizar um dicionário com os pares chave valor de outro dicionário.\n",
    "\n",
    "O método recebe um argumento 'iterável' que pode ser outro dicionário ou uma sequencia de pares chave-valor. \n",
    "\n",
    "É importante notar que se houver chaves duplicadas, o valor associado à última ocorrência da chave será mantido após a atualização."
   ]
  },
  {
   "cell_type": "code",
   "execution_count": null,
   "metadata": {},
   "outputs": [],
   "source": [
    "dicionário_2 = {'nome': 'Alessandra', 'idade': 26, 'cidade': 'Campinas'}\n",
    "dicionário_3 = {'nome': 'Alessandra Borges', 'idade':27, 'cidade': 'Campinas', 'profissão': 'Veterinária'}\n",
    "dicionário_2.update(dicionário_3)\n",
    "print(dicionário_2)"
   ]
  },
  {
   "attachments": {},
   "cell_type": "markdown",
   "metadata": {},
   "source": [
    "# clear()\n",
    "\n",
    "Este método é utilizado para remover todos os itens do dicionário deixando eles vazios."
   ]
  },
  {
   "cell_type": "code",
   "execution_count": null,
   "metadata": {},
   "outputs": [],
   "source": [
    "print(f'Estes são os itens do dicionário:\\n{dicionário}')\n",
    "print(f'Estes são os itens do dicionário:\\n{dicionário_1}')\n",
    "print(f'Estes são os itens do dicionário:\\n{dicionário_2}')\n",
    "print(f'Estes são os itens do dicionário:\\n{dicionário_3}')\n",
    "\n",
    "dicionário.clear()\n",
    "dicionário_1.clear()\n",
    "dicionário_2.clear()\n",
    "dicionário_3.clear()\n",
    "\n",
    "print('Agora com a execução do método clear os dicionários ficarão vazios.\\n')\n",
    "\n",
    "print(f'Estes são os itens do dicionário:\\n{dicionário}')\n",
    "print(f'Estes são os itens do dicionário:\\n{dicionário_1}')\n",
    "print(f'Estes são os itens do dicionário:\\n{dicionário_2}')\n",
    "print(f'Estes são os itens do dicionário:\\n{dicionário_3}')"
   ]
  }
 ],
 "metadata": {
  "kernelspec": {
   "display_name": "Python 3",
   "language": "python",
   "name": "python3"
  },
  "language_info": {
   "codemirror_mode": {
    "name": "ipython",
    "version": 3
   },
   "file_extension": ".py",
   "mimetype": "text/x-python",
   "name": "python",
   "nbconvert_exporter": "python",
   "pygments_lexer": "ipython3",
   "version": "3.11.1"
  },
  "orig_nbformat": 4
 },
 "nbformat": 4,
 "nbformat_minor": 2
}
