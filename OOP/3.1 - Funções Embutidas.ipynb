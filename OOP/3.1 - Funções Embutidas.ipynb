{
 "cells": [
  {
   "attachments": {},
   "cell_type": "markdown",
   "metadata": {},
   "source": [
    "# Funções Built-in\n",
    "Funções \"built-in\" no Python são funções embutidas diretamente na linguagem e estão disponíveis para uso sem a necessidade de importar módulos adicionais. Essas funções são consideradas parte do núcleo do Python e são amplamente utilizadas para realizar operações comuns."
   ]
  },
  {
   "attachments": {},
   "cell_type": "markdown",
   "metadata": {},
   "source": [
    "As funções \"built-in\" do Python incluem operações matemáticas, manipulação de strings, conversões de tipo, controle de fluxo, manipulação de coleções de dados, entrada/saída de dados e muito mais."
   ]
  },
  {
   "attachments": {},
   "cell_type": "markdown",
   "metadata": {},
   "source": [
    "abs(): Retorna o valor absoluto de um número."
   ]
  },
  {
   "attachments": {},
   "cell_type": "markdown",
   "metadata": {},
   "source": [
    "\n",
    "all(): Retorna True se todos os elementos de um iterável forem verdadeiros, caso contrário, retorna False."
   ]
  },
  {
   "attachments": {},
   "cell_type": "markdown",
   "metadata": {},
   "source": [
    "any(): Retorna True se qualquer elemento de um iterável for verdadeiro, caso contrário, retorna False."
   ]
  },
  {
   "attachments": {},
   "cell_type": "markdown",
   "metadata": {},
   "source": [
    "ascii(): Retorna uma representação de string contendo caracteres ASCII legíveis."
   ]
  },
  {
   "attachments": {},
   "cell_type": "markdown",
   "metadata": {},
   "source": [
    "bin(): Converte um número inteiro em uma representação binária."
   ]
  },
  {
   "attachments": {},
   "cell_type": "markdown",
   "metadata": {},
   "source": [
    "bool(): Retorna False se o valor for falso ou vazio, caso contrário, retorna True."
   ]
  },
  {
   "attachments": {},
   "cell_type": "markdown",
   "metadata": {},
   "source": [
    "bytearray(): Retorna um objeto bytearray modificável a partir de uma sequência de bytes."
   ]
  },
  {
   "attachments": {},
   "cell_type": "markdown",
   "metadata": {},
   "source": [
    "bytes(): Retorna um objeto bytes imutável a partir de uma sequência de bytes."
   ]
  },
  {
   "attachments": {},
   "cell_type": "markdown",
   "metadata": {},
   "source": [
    "callable(): Retorna True se o objeto for chamável (pode ser chamado como uma função), caso contrário, retorna False."
   ]
  },
  {
   "attachments": {},
   "cell_type": "markdown",
   "metadata": {},
   "source": [
    "chr(): Retorna uma string representando um caractere Unicode especificado pelo código."
   ]
  },
  {
   "attachments": {},
   "cell_type": "markdown",
   "metadata": {},
   "source": [
    "classmethod(): Transforma um método de classe em um método que opera na classe, em vez de em instâncias da classe."
   ]
  },
  {
   "attachments": {},
   "cell_type": "markdown",
   "metadata": {},
   "source": [
    "compile(): Compila o código-fonte Python em um objeto de código ou AST (Abstract Syntax Tree)."
   ]
  },
  {
   "attachments": {},
   "cell_type": "markdown",
   "metadata": {},
   "source": [
    "complex(): Retorna um número complexo criado a partir de um número real e imaginário."
   ]
  },
  {
   "attachments": {},
   "cell_type": "markdown",
   "metadata": {},
   "source": [
    "delattr(): Remove um atributo de um objeto."
   ]
  },
  {
   "attachments": {},
   "cell_type": "markdown",
   "metadata": {},
   "source": [
    "dict(): Cria um novo dicionário ou converte um iterável em um dicionário."
   ]
  },
  {
   "attachments": {},
   "cell_type": "markdown",
   "metadata": {},
   "source": [
    "dir(): Retorna uma lista de nomes de atributos válidos para um objeto."
   ]
  },
  {
   "attachments": {},
   "cell_type": "markdown",
   "metadata": {},
   "source": [
    "divmod(): Retorna um par de valores contendo o resultado da divisão e o resto."
   ]
  },
  {
   "attachments": {},
   "cell_type": "markdown",
   "metadata": {},
   "source": [
    "enumerate(): Retorna um objeto enumerado que gera pares de índice e valor para cada elemento de um iterável."
   ]
  },
  {
   "attachments": {},
   "cell_type": "markdown",
   "metadata": {},
   "source": [
    "eval(): Avalia uma expressão Python em uma string e retorna o resultado."
   ]
  },
  {
   "attachments": {},
   "cell_type": "markdown",
   "metadata": {},
   "source": [
    "exec(): Executa código Python dinamicamente."
   ]
  },
  {
   "attachments": {},
   "cell_type": "markdown",
   "metadata": {},
   "source": [
    "filter(): Filtra elementos de um iterável com base em uma função de teste."
   ]
  },
  {
   "attachments": {},
   "cell_type": "markdown",
   "metadata": {},
   "source": [
    "float(): Converte um valor em ponto flutuante."
   ]
  },
  {
   "attachments": {},
   "cell_type": "markdown",
   "metadata": {},
   "source": [
    "format(): Formata uma string substituindo marcadores de posição por valores fornecidos."
   ]
  },
  {
   "attachments": {},
   "cell_type": "markdown",
   "metadata": {},
   "source": [
    "frozenset(): Retorna um novo objeto frozenset imutável a partir de um iterável."
   ]
  },
  {
   "attachments": {},
   "cell_type": "markdown",
   "metadata": {},
   "source": [
    "getattr(): Retorna o valor de um atributo de um objeto."
   ]
  },
  {
   "attachments": {},
   "cell_type": "markdown",
   "metadata": {},
   "source": [
    "globals(): Retorna um dicionário contendo as variáveis globais atuais."
   ]
  },
  {
   "attachments": {},
   "cell_type": "markdown",
   "metadata": {},
   "source": [
    "hasattr(): Retorna True se um objeto tiver um determinado atributo, caso contrário, retorna False."
   ]
  },
  {
   "attachments": {},
   "cell_type": "markdown",
   "metadata": {},
   "source": [
    "hash(): Retorna o valor hash de um objeto."
   ]
  },
  {
   "attachments": {},
   "cell_type": "markdown",
   "metadata": {},
   "source": [
    "help(): Exibe informações de ajuda interativa."
   ]
  },
  {
   "attachments": {},
   "cell_type": "markdown",
   "metadata": {},
   "source": [
    "hex(): Converte um número inteiro em uma representação hexadecimal."
   ]
  },
  {
   "attachments": {},
   "cell_type": "markdown",
   "metadata": {},
   "source": [
    "id(): Retorna o identificador exclusivo de um objeto."
   ]
  },
  {
   "attachments": {},
   "cell_type": "markdown",
   "metadata": {},
   "source": [
    "input(): Lê uma entrada do usuário via teclado."
   ]
  },
  {
   "attachments": {},
   "cell_type": "markdown",
   "metadata": {},
   "source": [
    "int(): Converte um valor em um número inteiro."
   ]
  },
  {
   "attachments": {},
   "cell_type": "markdown",
   "metadata": {},
   "source": [
    "isinstance(): Retorna True se um objeto for uma instância de uma determinada classe, caso contrário, retorna False."
   ]
  },
  {
   "attachments": {},
   "cell_type": "markdown",
   "metadata": {},
   "source": [
    "issubclass(): Retorna True se uma classe for uma subclasse de outra classe, caso contrário, retorna False."
   ]
  },
  {
   "attachments": {},
   "cell_type": "markdown",
   "metadata": {},
   "source": [
    "iter(): Retorna um iterador para um objeto iterável."
   ]
  },
  {
   "attachments": {},
   "cell_type": "markdown",
   "metadata": {},
   "source": [
    "len(): Retorna o comprimento (número de elementos) de um objeto."
   ]
  },
  {
   "attachments": {},
   "cell_type": "markdown",
   "metadata": {},
   "source": [
    "list(): Cria uma nova lista ou converte um iterável em uma lista."
   ]
  },
  {
   "attachments": {},
   "cell_type": "markdown",
   "metadata": {},
   "source": [
    "locals(): Retorna um dicionário contendo as variáveis locais atuais."
   ]
  },
  {
   "attachments": {},
   "cell_type": "markdown",
   "metadata": {},
   "source": [
    "map(): Aplica uma função a cada elemento de um iterável."
   ]
  },
  {
   "attachments": {},
   "cell_type": "markdown",
   "metadata": {},
   "source": [
    "max(): Retorna o maior valor em um iterável ou o maior de dois ou mais argumentos."
   ]
  },
  {
   "attachments": {},
   "cell_type": "markdown",
   "metadata": {},
   "source": [
    "memoryview(): Retorna um objeto de memória que permite acessar e manipular diretamente o conteúdo da memória."
   ]
  },
  {
   "attachments": {},
   "cell_type": "markdown",
   "metadata": {},
   "source": [
    "min(): Retorna o menor valor em um iterável ou o menor de dois ou mais argumentos."
   ]
  },
  {
   "attachments": {},
   "cell_type": "markdown",
   "metadata": {},
   "source": [
    "next(): Retorna o próximo elemento de um iterador."
   ]
  },
  {
   "attachments": {},
   "cell_type": "markdown",
   "metadata": {},
   "source": [
    "object(): Retorna um novo objeto vazio."
   ]
  },
  {
   "attachments": {},
   "cell_type": "markdown",
   "metadata": {},
   "source": [
    "oct(): Converte um número inteiro em uma representação octal."
   ]
  },
  {
   "attachments": {},
   "cell_type": "markdown",
   "metadata": {},
   "source": [
    "open(): Abre um arquivo e retorna um objeto de arquivo."
   ]
  },
  {
   "attachments": {},
   "cell_type": "markdown",
   "metadata": {},
   "source": [
    "ord(): Retorna o valor inteiro que representa o código Unicode de um caractere."
   ]
  },
  {
   "attachments": {},
   "cell_type": "markdown",
   "metadata": {},
   "source": [
    "pow(): Retorna a potência de um número."
   ]
  },
  {
   "attachments": {},
   "cell_type": "markdown",
   "metadata": {},
   "source": [
    "print(): Imprime um ou mais objetos na saída padrão."
   ]
  },
  {
   "attachments": {},
   "cell_type": "markdown",
   "metadata": {},
   "source": [
    "property(): Cria uma propriedade de atributo para uma classe."
   ]
  },
  {
   "attachments": {},
   "cell_type": "markdown",
   "metadata": {},
   "source": [
    "range(): Retorna uma sequência de números dentro de um intervalo especificado."
   ]
  },
  {
   "attachments": {},
   "cell_type": "markdown",
   "metadata": {},
   "source": [
    "repr(): Retorna uma representação em string de um objeto."
   ]
  },
  {
   "attachments": {},
   "cell_type": "markdown",
   "metadata": {},
   "source": [
    "reversed(): Retorna um iterador que itera sobre uma sequência em ordem reversa."
   ]
  },
  {
   "attachments": {},
   "cell_type": "markdown",
   "metadata": {},
   "source": [
    "round(): Arredonda um número para uma quantidade específica de casas decimais."
   ]
  },
  {
   "attachments": {},
   "cell_type": "markdown",
   "metadata": {},
   "source": [
    "set(): Cria um novo conjunto ou converte um iterável em um conjunto."
   ]
  },
  {
   "attachments": {},
   "cell_type": "markdown",
   "metadata": {},
   "source": [
    "setattr(): Define o valor de um atributo de um objeto."
   ]
  },
  {
   "attachments": {},
   "cell_type": "markdown",
   "metadata": {},
   "source": [
    "slice(): Retorna um objeto de fatia que representa uma sequência de índices."
   ]
  },
  {
   "attachments": {},
   "cell_type": "markdown",
   "metadata": {},
   "source": [
    "sorted(): Retorna uma nova lista ordenada a partir de um iterável."
   ]
  },
  {
   "attachments": {},
   "cell_type": "markdown",
   "metadata": {},
   "source": [
    "staticmethod(): Transforma um método em um método estático que não recebe uma referência de instância."
   ]
  },
  {
   "attachments": {},
   "cell_type": "markdown",
   "metadata": {},
   "source": [
    "str(): Converte um objeto em uma representação de string."
   ]
  },
  {
   "attachments": {},
   "cell_type": "markdown",
   "metadata": {},
   "source": [
    "sum(): Retorna a soma de todos os elementos de um iterável."
   ]
  },
  {
   "attachments": {},
   "cell_type": "markdown",
   "metadata": {},
   "source": [
    "super(): Retorna um objeto proxy que delega chamadas a um método para uma classe pai."
   ]
  },
  {
   "attachments": {},
   "cell_type": "markdown",
   "metadata": {},
   "source": [
    "tuple(): Cria uma nova tupla ou converte um iterável em uma tupla."
   ]
  },
  {
   "attachments": {},
   "cell_type": "markdown",
   "metadata": {},
   "source": [
    "type(): Retorna o tipo de um objeto."
   ]
  },
  {
   "attachments": {},
   "cell_type": "markdown",
   "metadata": {},
   "source": [
    "vars(): Retorna o dicionário de atributos de um objeto."
   ]
  },
  {
   "attachments": {},
   "cell_type": "markdown",
   "metadata": {},
   "source": [
    "zip(): Combina vários iteráveis em um único iterador de tuplas."
   ]
  }
 ],
 "metadata": {
  "language_info": {
   "name": "python"
  },
  "orig_nbformat": 4
 },
 "nbformat": 4,
 "nbformat_minor": 2
}
