{
 "cells": [
  {
   "attachments": {},
   "cell_type": "markdown",
   "metadata": {},
   "source": [
    "# Conjuntos\n",
    "\n",
    "Os conjuntos em Python são uma estrutura de dados que armazena uma coleção de elementos únicos e não ordenados.\n",
    "\n",
    "Características:\n",
    "\n",
    "Elementos únicos: Os conjuntos garantem que não haja elementos duplicados. Se você adicionar um elemento por varias vezes ele sera armazenado apenas uma vez.\n",
    "\n",
    "Não ordenados: Os conjuntos não possuem uma ordem específica para os elementos. Logo você não pode acessar elementos por um índice especifico.\n",
    "\n",
    "Mutabilidade: Os conjuntos são mutáveis, então voce pode remover ou adicionar elementos após a sua criação.\n",
    "\n",
    "Coleção de tipos: Os conjuntos podem conter elementos de diferentes tipos de dados, como números, strings, tuplas, etc.\n",
    "\n",
    "Operações de conjunto: Os conjuntos suportam várias operações úteis, como união, interseção, diferença e teste de pertinência.\n",
    "\n",
    "Exemplos de criação:\n",
    "\n",
    "### criando um conjunto:"
   ]
  },
  {
   "cell_type": "code",
   "execution_count": 1,
   "metadata": {},
   "outputs": [],
   "source": [
    "conjunto1 = {1, 2, 3, 4, 5}\n",
    "conjunto2 = set({4, 5, 6, 7, 8})"
   ]
  }
 ],
 "metadata": {
  "kernelspec": {
   "display_name": "Python 3",
   "language": "python",
   "name": "python3"
  },
  "language_info": {
   "codemirror_mode": {
    "name": "ipython",
    "version": 3
   },
   "file_extension": ".py",
   "mimetype": "text/x-python",
   "name": "python",
   "nbconvert_exporter": "python",
   "pygments_lexer": "ipython3",
   "version": "3.11.1"
  },
  "orig_nbformat": 4
 },
 "nbformat": 4,
 "nbformat_minor": 2
}
