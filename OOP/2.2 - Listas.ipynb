{
 "cells": [
  {
   "attachments": {},
   "cell_type": "markdown",
   "metadata": {},
   "source": [
    "# Listas\n",
    "\n",
    "Uma lista em python é uma estrutura de dados que permite armazenar e organizar uma coleção de elementos.\n",
    "\n",
    "As listas são mutráveis, oque significa que é possível adicionar remover e modificar os elementos apos a sua criação.\n",
    "\n",
    "cada elemento em uma lista é identificado por um índice.\n",
    "\n",
    "### Características das listas:\n",
    "- Listas são delimitadas por colchetes [].\n",
    "- Os elementos são separados por virgula.\n",
    "- Listas podem possuir elementos do tipo strings, números, outras listas, dicionários, booleanos.\n",
    "- As listas podem ser alteradas adicionando ou retirando elementos.\n",
    "- é possível acessar elementos individuais utilizando os índices dos elementos.\n",
    "- As listas armazenam os elementos na ondem em que foram inseridos.\n",
    "\n",
    "Exemplos:\n",
    "\n",
    "### Criando uma lista vazia:"
   ]
  },
  {
   "cell_type": "code",
   "execution_count": 24,
   "metadata": {},
   "outputs": [],
   "source": [
    "lista_vazia = []"
   ]
  },
  {
   "attachments": {},
   "cell_type": "markdown",
   "metadata": {},
   "source": [
    "### Criando uma lista com elementos"
   ]
  },
  {
   "cell_type": "code",
   "execution_count": 25,
   "metadata": {},
   "outputs": [],
   "source": [
    "números = [1, 2, 3, 4, 5]\n",
    "frutas = ['maçã', 'banana', 'laranja']\n",
    "misturada = [10, 'abc', True, ['x', 'y', 'z']]"
   ]
  },
  {
   "attachments": {},
   "cell_type": "markdown",
   "metadata": {},
   "source": [
    "### Criando uma lista utilizando a função list()"
   ]
  },
  {
   "cell_type": "code",
   "execution_count": 26,
   "metadata": {},
   "outputs": [],
   "source": [
    "nomes = list(['Ana', 'João', 'Maria'])"
   ]
  },
  {
   "attachments": {},
   "cell_type": "markdown",
   "metadata": {},
   "source": [
    "### Criando uma lista com valores repetidos"
   ]
  },
  {
   "cell_type": "code",
   "execution_count": 27,
   "metadata": {},
   "outputs": [],
   "source": [
    "repetidos = [0] * 5"
   ]
  },
  {
   "attachments": {},
   "cell_type": "markdown",
   "metadata": {},
   "source": [
    "### Criando uma lista com elementos de diferentes tipos"
   ]
  },
  {
   "cell_type": "code",
   "execution_count": 28,
   "metadata": {},
   "outputs": [],
   "source": [
    "variada = [10, 'abc', True, 3.14]"
   ]
  },
  {
   "attachments": {},
   "cell_type": "markdown",
   "metadata": {},
   "source": [
    "### Criando uma lista aninhada (lista de listas)"
   ]
  },
  {
   "cell_type": "code",
   "execution_count": 29,
   "metadata": {},
   "outputs": [],
   "source": [
    "aninhada = [[1, 2, 3], [4, 5, 6], [7, 8, 9]]"
   ]
  }
 ],
 "metadata": {
  "kernelspec": {
   "display_name": "venv",
   "language": "python",
   "name": "python3"
  },
  "language_info": {
   "codemirror_mode": {
    "name": "ipython",
    "version": 3
   },
   "file_extension": ".py",
   "mimetype": "text/x-python",
   "name": "python",
   "nbconvert_exporter": "python",
   "pygments_lexer": "ipython3",
   "version": "3.11.1"
  },
  "orig_nbformat": 4
 },
 "nbformat": 4,
 "nbformat_minor": 2
}
