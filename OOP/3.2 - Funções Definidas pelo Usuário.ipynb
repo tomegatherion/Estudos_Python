{
 "cells": [
  {
   "attachments": {},
   "cell_type": "markdown",
   "metadata": {},
   "source": [
    "# Funções definidas pelo Usuário.\n",
    "\n",
    "Funções definidas pelo usuário em Python são blocos de código que podem ser criados pelo próprio programador para realizar tarefas específicas. Elas permitem agrupar um conjunto de instruções em um único bloco, que pode ser chamado e executado repetidamente em diferentes partes do programa.\n",
    "\n",
    "Aqui está a estrutura básica de uma função em Python:"
   ]
  },
  {
   "cell_type": "code",
   "execution_count": 15,
   "metadata": {},
   "outputs": [],
   "source": [
    "def nome_da_função(parâmetro1, parâmetro2, parâmetroetc):\n",
    "    # Corpo da função\n",
    "    # Instruções a serem executadas\n",
    "    return valor_de_retorno"
   ]
  },
  {
   "attachments": {},
   "cell_type": "markdown",
   "metadata": {},
   "source": [
    "Explicando cada parte:\n",
    "\n",
    "- def: palavra-chave para definir uma função.\n",
    "- nome_da_função: nome que identifica a função. Deve seguir as convenções de nomenclatura em Python.\n",
    "parâmetro1, parâmetro2, ...: parâmetros opcionais que a função pode receber. Os parâmetros são separados por vírgulas e podem ter qualquer nome válido em Python.\n",
    "- '#' Corpo da função: bloco de código indentado que contém as instruções a serem executadas pela função.\n",
    "- return valor_de_retorno: instrução return opcional que especifica o valor a ser retornado pela função. Se não houver uma instrução return, a função retorna None implicitamente.\n",
    "\n",
    "A estrutura de uma função pode variar dependendo das necessidades do programa. Funções podem ter zero ou vários parâmetros, podem ou não retornar valores e podem conter qualquer número de instruções."
   ]
  },
  {
   "attachments": {},
   "cell_type": "markdown",
   "metadata": {},
   "source": [
    "#### Exemplos pratico:"
   ]
  },
  {
   "cell_type": "code",
   "execution_count": 16,
   "metadata": {},
   "outputs": [
    {
     "name": "stdout",
     "output_type": "stream",
     "text": [
      "A média dos números é: 7.8\n"
     ]
    }
   ],
   "source": [
    "def calcular_média(lista):\n",
    "    total = sum(lista)\n",
    "    media = total / len(lista)\n",
    "    return media\n",
    "\n",
    "números = [10, 5, 8, 9, 7]\n",
    "\n",
    "media = calcular_média(números)\n",
    "\n",
    "print(\"A média dos números é:\", media)\n"
   ]
  },
  {
   "cell_type": "code",
   "execution_count": 17,
   "metadata": {},
   "outputs": [
    {
     "name": "stdout",
     "output_type": "stream",
     "text": [
      "False\n",
      "True\n"
     ]
    }
   ],
   "source": [
    "def verifica_se_par(número):\n",
    "    if número % 2 == 0:\n",
    "        return True\n",
    "    else:\n",
    "        return False\n",
    "\n",
    "print(verifica_se_par(7))\n",
    "print(verifica_se_par(12))"
   ]
  },
  {
   "cell_type": "code",
   "execution_count": 18,
   "metadata": {},
   "outputs": [
    {
     "name": "stdout",
     "output_type": "stream",
     "text": [
      "Bem-vindo ao jogo de adivinhação!\n",
      "Tente adivinhar o número secreto de 1 a 100.\n",
      "Tente um número menor!\n",
      "Tente um número maior!\n",
      "Tente um número menor!\n",
      "Tente um número menor!\n",
      "Tente um número menor!\n",
      "Parabéns! Você acertou o número em 6 tentativas!\n",
      "Fim do jogo.\n"
     ]
    }
   ],
   "source": [
    "import random\n",
    "\n",
    "def jogo_adivinhação():\n",
    "    numero_secreto = random.randint(1, 100)\n",
    "    tentativas = 0\n",
    "\n",
    "    print(\"Bem-vindo ao jogo de adivinhação!\")\n",
    "    print(\"Tente adivinhar o número secreto de 1 a 100.\")\n",
    "\n",
    "    while True:\n",
    "        tentativa = int(input(\"Digite seu palpite: \"))\n",
    "        tentativas += 1\n",
    "\n",
    "        if tentativa == numero_secreto:\n",
    "            print(f\"Parabéns! Você acertou o número em {tentativas} tentativas!\")\n",
    "            break\n",
    "        elif tentativa < numero_secreto:\n",
    "            print(\"Tente um número maior!\")\n",
    "        else:\n",
    "            print(\"Tente um número menor!\")\n",
    "\n",
    "    print(\"Fim do jogo.\")\n",
    "\n",
    "jogo_adivinhação()\n"
   ]
  },
  {
   "cell_type": "code",
   "execution_count": 19,
   "metadata": {},
   "outputs": [
    {
     "name": "stdout",
     "output_type": "stream",
     "text": [
      "A palavra 'jaca' não é um palíndromo\n",
      "A palavra 'radar' é um palíndromo\n",
      "A palavra 'roma é amor' é um palíndromo\n",
      "A palavra 'asa' é um palíndromo\n",
      "A palavra 'arara' é um palíndromo\n",
      "A palavra 'ralar' é um palíndromo\n",
      "A palavra 'rever' é um palíndromo\n",
      "A palavra 'roma me tem amor' não é um palíndromo\n",
      "A palavra 'o lobo ama bolo' não é um palíndromo\n",
      "A palavra 'o lobo ama o bolo' não é um palíndromo\n"
     ]
    }
   ],
   "source": [
    "def verificar_palíndromo(palavra):\n",
    "    palavra = palavra.lower()\n",
    "    reverso = palavra[::-1]\n",
    "    if palavra == reverso:\n",
    "        return True\n",
    "    else:\n",
    "        return False\n",
    "\n",
    "while True:\n",
    "    \n",
    "    palavra = input('Digite a palavra: ')\n",
    "    if palavra.lower() == \"sair\":\n",
    "        break\n",
    "    if verificar_palíndromo(palavra):\n",
    "        print(f\"A palavra '{palavra}' é um palíndromo\")\n",
    "    else:\n",
    "        print(f\"A palavra '{palavra}' não é um palíndromo\")"
   ]
  }
 ],
 "metadata": {
  "kernelspec": {
   "display_name": "venv",
   "language": "python",
   "name": "python3"
  },
  "language_info": {
   "codemirror_mode": {
    "name": "ipython",
    "version": 3
   },
   "file_extension": ".py",
   "mimetype": "text/x-python",
   "name": "python",
   "nbconvert_exporter": "python",
   "pygments_lexer": "ipython3",
   "version": "3.11.1"
  },
  "orig_nbformat": 4
 },
 "nbformat": 4,
 "nbformat_minor": 2
}
