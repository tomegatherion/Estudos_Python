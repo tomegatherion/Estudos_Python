{
 "cells": [
  {
   "attachments": {},
   "cell_type": "markdown",
   "metadata": {},
   "source": [
    "### Criando um tupla.\n",
    "Tupla é um tipo de estrutura de dados do Python que tem como principal característica ser imutável.\n",
    "Tuplas são criadas com ()\n",
    "A principal função é guardar informações de forma segura, garantindo que estas não sejam alteradas trazendo maior segurança ao código."
   ]
  },
  {
   "cell_type": "code",
   "execution_count": 1,
   "metadata": {},
   "outputs": [
    {
     "name": "stdout",
     "output_type": "stream",
     "text": [
      "(1, 2, 3, 4, 5)\n"
     ]
    }
   ],
   "source": [
    "tupla1 = (1, 2, 3, 4, 5)\n",
    "print(tupla1)"
   ]
  },
  {
   "attachments": {},
   "cell_type": "markdown",
   "metadata": {},
   "source": [
    "Apesar da imutabilidade das tuplas é possível armazenar objetos mutáveis, um exemplo disso seria armazenar listas."
   ]
  },
  {
   "cell_type": "code",
   "execution_count": 2,
   "metadata": {},
   "outputs": [
    {
     "name": "stdout",
     "output_type": "stream",
     "text": [
      "['maça', 'pera', 'banana']\n",
      "['azul', 'preto', 'vermelho']\n",
      "(['maça', 'pera', 'banana'], ['azul', 'preto', 'vermelho'])\n"
     ]
    }
   ],
   "source": [
    "lista_frutas = ['maça', 'pera', 'banana']\n",
    "lista_cores = ['azul', 'preto', 'vermelho']\n",
    "tupla2 = (lista_frutas, lista_cores)\n",
    "\n",
    "print(lista_frutas)\n",
    "print(lista_cores)\n",
    "print(tupla2)"
   ]
  },
  {
   "cell_type": "code",
   "execution_count": 3,
   "metadata": {},
   "outputs": [
    {
     "name": "stdout",
     "output_type": "stream",
     "text": [
      "(['maça', 'pera', 'banana', 'uva'], ['azul', 'preto', 'vermelho', 'verde'])\n"
     ]
    }
   ],
   "source": [
    "lista_frutas.append('uva')\n",
    "lista_cores.append('verde')\n",
    "print(tupla2)"
   ]
  },
  {
   "attachments": {},
   "cell_type": "markdown",
   "metadata": {},
   "source": [
    "Como declarar uma tupla?\n",
    "É possível declarar uma tupla utilizando tanto a declaração implícita quanto a explícita.\n",
    "\n",
    "As tuplas implícitas são criadas quando valores são separados por vírgulas, sem o uso explícito de parênteses.\n",
    "\n",
    "As tuplas explícitas são criadas quando usamos parênteses para delimitar os elementos da tupla de forma explícita.\n",
    "\n",
    "Todavia é necessário atenção na criação de tuplas implícitas de elemento único, pois é a virgula que define uma tupla, esquecer da virgula nesse caso resultará na criação de uma variável.\n",
    "\n",
    "Independente do serem criadas implicitamente ou explicitamente as tuplas sempre serão representadas entre parentes."
   ]
  },
  {
   "cell_type": "code",
   "execution_count": 4,
   "metadata": {},
   "outputs": [
    {
     "name": "stdout",
     "output_type": "stream",
     "text": [
      "(1, 2, 3) (4, 5, 6)\n",
      "<class 'tuple'>\n",
      "<class 'int'>\n"
     ]
    }
   ],
   "source": [
    "tupla_implícita = 1, 2, 3\n",
    "tupla_explícita = (4, 5, 6)\n",
    "tupla_única = 1,    # Isto é uma tupla.\n",
    "variável_x = 1      # Isto é uma variável do tipo int.\n",
    "\n",
    "print(tupla_implícita, tupla_explícita)\n",
    "print(type(tupla_única))\n",
    "print(type(variável_x))"
   ]
  },
  {
   "attachments": {},
   "cell_type": "markdown",
   "metadata": {},
   "source": [
    "É possível pesquisar um elemento em uma tupla para verificar se ele existe."
   ]
  },
  {
   "cell_type": "code",
   "execution_count": 5,
   "metadata": {},
   "outputs": [
    {
     "name": "stdout",
     "output_type": "stream",
     "text": [
      "True\n",
      "False\n"
     ]
    }
   ],
   "source": [
    "cidades = ('São Paulo', 'Recife', 'Florianópolis', 'Curitiba')\n",
    "print('Recife' in cidades)  # O elemento existe na tupla.\n",
    "print('Manaus' in cidades) # O elemento não existe na tupla"
   ]
  },
  {
   "attachments": {},
   "cell_type": "markdown",
   "metadata": {},
   "source": [
    "### Métodos\n",
    "\n",
    "count()"
   ]
  },
  {
   "cell_type": "code",
   "execution_count": 6,
   "metadata": {},
   "outputs": [
    {
     "name": "stdout",
     "output_type": "stream",
     "text": [
      "4\n",
      "3\n"
     ]
    }
   ],
   "source": [
    "tupla_nomes = ('Eduardo', 'Kelly', 'João', 'Elias', 'Kelly',  'Alexander', \n",
    "                'Samuel', 'Kelly', 'João', 'Dione', 'Kelly', 'João' )\n",
    "print(tupla_nomes.count('Kelly'))\n",
    "print(tupla_nomes.count('João'))"
   ]
  },
  {
   "cell_type": "code",
   "execution_count": 7,
   "metadata": {},
   "outputs": [
    {
     "name": "stdout",
     "output_type": "stream",
     "text": [
      "O numero de ocorrências do elemento \"Kelly\" na tupla é: 4\n",
      "O numero de ocorrências do elemento \"João\" na tupla é: 3\n"
     ]
    }
   ],
   "source": [
    "elemento_1 = 'Kelly'\n",
    "elemento_2 = 'João'\n",
    "\n",
    "ocorrências_1 = tupla_nomes.count(elemento_1)\n",
    "ocorrências_2 = tupla_nomes.count(elemento_2)\n",
    "\n",
    "print(f'O numero de ocorrências do elemento \"{elemento_1}\" na tupla é: {ocorrências_1}')\n",
    "print(f'O numero de ocorrências do elemento \"{elemento_2}\" na tupla é: {ocorrências_2}')"
   ]
  },
  {
   "attachments": {},
   "cell_type": "markdown",
   "metadata": {},
   "source": [
    "index()\n",
    "\n",
    "Pode se exibir o índice de um elemento dentro da tupla utilizando o método index().\n",
    "\n",
    "O método possui 3 argumentos: index(elemento, início, final)\n",
    "\n",
    "elemento: é oque será procurado na tupla - Obrigatório.\n",
    "início: índice inicial de pesquisa - Opcional.\n",
    "final: índice final da pesquisa - Opcional."
   ]
  },
  {
   "cell_type": "code",
   "execution_count": 8,
   "metadata": {},
   "outputs": [
    {
     "name": "stdout",
     "output_type": "stream",
     "text": [
      "1\n",
      "4\n",
      "7\n"
     ]
    }
   ],
   "source": [
    "índice1 = tupla_nomes.index('Kelly')\n",
    "print(índice1)\n",
    "\n",
    "índice2 = tupla_nomes.index('Kelly', 2)\n",
    "print(índice2)\n",
    "\n",
    "índice3 = tupla_nomes.index('Kelly', 7, 12)\n",
    "print(índice3)"
   ]
  }
 ],
 "metadata": {
  "kernelspec": {
   "display_name": "venv",
   "language": "python",
   "name": "python3"
  },
  "language_info": {
   "codemirror_mode": {
    "name": "ipython",
    "version": 3
   },
   "file_extension": ".py",
   "mimetype": "text/x-python",
   "name": "python",
   "nbconvert_exporter": "python",
   "pygments_lexer": "ipython3",
   "version": "3.11.1"
  },
  "orig_nbformat": 4
 },
 "nbformat": 4,
 "nbformat_minor": 2
}
