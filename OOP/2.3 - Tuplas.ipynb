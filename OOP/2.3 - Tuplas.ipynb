{
 "cells": [
  {
   "attachments": {},
   "cell_type": "markdown",
   "metadata": {},
   "source": [
    "### Criando um tupla.\n",
    "Tupla é um tipo de estrutura de dados do Python que tem como principal característica ser imutável.\n",
    "Tuplas são criadas com ()\n",
    "A principal função é guardar informações de forma segura, garantindo que estas não sejam alteradas trazendo maior segurança ao código."
   ]
  },
  {
   "cell_type": "code",
   "execution_count": 1,
   "metadata": {},
   "outputs": [
    {
     "name": "stdout",
     "output_type": "stream",
     "text": [
      "(1, 2, 3, 4, 5)\n"
     ]
    }
   ],
   "source": [
    "tupla1 = (1, 2, 3, 4, 5)\n",
    "print(tupla1)"
   ]
  },
  {
   "attachments": {},
   "cell_type": "markdown",
   "metadata": {},
   "source": [
    "Apesar da imutabilidade das tuplas é possível armazenar objetos mutáveis, um exemplo disso seria armazenar listas."
   ]
  },
  {
   "cell_type": "code",
   "execution_count": 2,
   "metadata": {},
   "outputs": [
    {
     "name": "stdout",
     "output_type": "stream",
     "text": [
      "['maça', 'pera', 'banana']\n",
      "['azul', 'preto', 'vermelho']\n",
      "(['maça', 'pera', 'banana'], ['azul', 'preto', 'vermelho'])\n"
     ]
    }
   ],
   "source": [
    "lista_frutas = ['maça', 'pera', 'banana']\n",
    "lista_cores = ['azul', 'preto', 'vermelho']\n",
    "tupla2 = (lista_frutas, lista_cores)\n",
    "\n",
    "print(lista_frutas)\n",
    "print(lista_cores)\n",
    "print(tupla2)"
   ]
  },
  {
   "cell_type": "code",
   "execution_count": 3,
   "metadata": {},
   "outputs": [
    {
     "name": "stdout",
     "output_type": "stream",
     "text": [
      "(['maça', 'pera', 'banana', 'uva'], ['azul', 'preto', 'vermelho', 'verde'])\n"
     ]
    }
   ],
   "source": [
    "lista_frutas.append('uva')\n",
    "lista_cores.append('verde')\n",
    "print(tupla2)"
   ]
  },
  {
   "attachments": {},
   "cell_type": "markdown",
   "metadata": {},
   "source": [
    "Como declarar uma tupla?\n",
    "É possível declarar uma tupla utilizando tanto a declaração implícita quanto a explícita.\n",
    "\n",
    "As tuplas implícitas são criadas quando valores são separados por vírgulas, sem o uso explícito de parênteses.\n",
    "\n",
    "As tuplas explícitas são criadas quando usamos parênteses para delimitar os elementos da tupla de forma explícita.\n",
    "\n",
    "Todavia é necessário atenção na criação de tuplas implícitas de elemento único, pois é a virgula que define uma tupla, esquecer da virgula nesse caso resultará na criação de uma variável.\n",
    "\n",
    "Independente do serem criadas implicitamente ou explicitamente as tuplas sempre serão representadas entre parentes."
   ]
  },
  {
   "cell_type": "code",
   "execution_count": 4,
   "metadata": {},
   "outputs": [
    {
     "name": "stdout",
     "output_type": "stream",
     "text": [
      "(1, 2, 3) (4, 5, 6)\n",
      "<class 'tuple'>\n",
      "<class 'int'>\n"
     ]
    }
   ],
   "source": [
    "tupla_implícita = 1, 2, 3\n",
    "tupla_explícita = (4, 5, 6)\n",
    "tupla_única = 1,    # Isto é uma tupla.\n",
    "variável_x = 1      # Isto é uma variável do tipo int.\n",
    "\n",
    "print(tupla_implícita, tupla_explícita)\n",
    "print(type(tupla_única))\n",
    "print(type(variável_x))"
   ]
  },
  {
   "attachments": {},
   "cell_type": "markdown",
   "metadata": {},
   "source": [
    "É possível pesquisar um elemento em uma tupla para verificar se ele existe."
   ]
  },
  {
   "cell_type": "code",
   "execution_count": 5,
   "metadata": {},
   "outputs": [
    {
     "name": "stdout",
     "output_type": "stream",
     "text": [
      "True\n",
      "False\n"
     ]
    }
   ],
   "source": [
    "cidades = ('São Paulo', 'Recife', 'Florianópolis', 'Curitiba')\n",
    "print('Recife' in cidades)  # O elemento existe na tupla.\n",
    "print('Manaus' in cidades) # O elemento não existe na tupla"
   ]
  }
 ],
 "metadata": {
  "kernelspec": {
   "display_name": "venv",
   "language": "python",
   "name": "python3"
  },
  "language_info": {
   "codemirror_mode": {
    "name": "ipython",
    "version": 3
   },
   "file_extension": ".py",
   "mimetype": "text/x-python",
   "name": "python",
   "nbconvert_exporter": "python",
   "pygments_lexer": "ipython3",
   "version": "3.11.1"
  },
  "orig_nbformat": 4
 },
 "nbformat": 4,
 "nbformat_minor": 2
}
