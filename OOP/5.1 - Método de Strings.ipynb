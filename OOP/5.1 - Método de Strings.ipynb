{
 "cells": [
  {
   "attachments": {},
   "cell_type": "markdown",
   "metadata": {},
   "source": [
    "# Formatação de Strings:\n",
    "\n",
    "A formatação de strings é uma técnica usada para criar strings que incorporam valores de variáveis de forma dinâmica.\n",
    "Existem várias maneiras de formatar strings\n",
    "\n",
    "### 1. Formatação com '%'.\n",
    "\n",
    "A formatação com % é um método antigo, mas ainda válido. Nessa abordagem voce usa marcadores de posição especiais dentro da string para indicar os valores que devem ser inseridos.\n",
    "\n",
    "Os marcadores são especificados com %s para strings, e %d para inteiros, %f para números de ponto flutuante."
   ]
  },
  {
   "cell_type": "code",
   "execution_count": 1,
   "metadata": {},
   "outputs": [
    {
     "name": "stdout",
     "output_type": "stream",
     "text": [
      "Meu nome é João e tenho 25 anos.\n"
     ]
    }
   ],
   "source": [
    "nome = 'João'\n",
    "idade = 25\n",
    "\n",
    "frase = 'Meu nome é %s e tenho %d anos.' % (nome, idade)\n",
    "print(frase)"
   ]
  },
  {
   "attachments": {},
   "cell_type": "markdown",
   "metadata": {},
   "source": [
    "### 2. Método format().\n",
    "\n",
    "O método format() permite inserir valores em marcadores especiais dentro da string. Os marcadores são especificados usando chaves {} e que voce pode indicar a posição ou o nome dos valores inseridos."
   ]
  },
  {
   "cell_type": "code",
   "execution_count": 2,
   "metadata": {},
   "outputs": [
    {
     "name": "stdout",
     "output_type": "stream",
     "text": [
      "Meu nome é João e tenho 25 anos.\n"
     ]
    }
   ],
   "source": [
    "frase = 'Meu nome é {} e tenho {} anos.'.format(nome, idade)\n",
    "print(frase)"
   ]
  },
  {
   "attachments": {},
   "cell_type": "markdown",
   "metadata": {},
   "source": [
    "### 3. F-strings (f-string literals).\n",
    "\n",
    "As f-sting são uma forma mais recente e conveniente de se formatar strings em Python 3.6 e versões posteriores.\n",
    "\n",
    "Dentro dos colchetes, você pode colocar expressões Python válidas, incluindo variáveis e chamadas de função."
   ]
  },
  {
   "cell_type": "code",
   "execution_count": 3,
   "metadata": {},
   "outputs": [
    {
     "name": "stdout",
     "output_type": "stream",
     "text": [
      "Meu nome é João e tenho 25 anos.\n"
     ]
    }
   ],
   "source": [
    "frase = f'Meu nome é {nome} e tenho {idade} anos.'\n",
    "print(frase)"
   ]
  },
  {
   "attachments": {},
   "cell_type": "markdown",
   "metadata": {},
   "source": [
    "# Métodos\n",
    "\n",
    "### upper()\n",
    "\n",
    "A função upper() é um método que retorna uma nova string com todos os caracteres convertidos em letras maiúsculas, mantendo os caracteres que já estavam em maiúsculas e ignorando aqueles que não são letras."
   ]
  },
  {
   "cell_type": "code",
   "execution_count": 4,
   "metadata": {},
   "outputs": [
    {
     "name": "stdout",
     "output_type": "stream",
     "text": [
      "OLÁ MUNDO!\n"
     ]
    }
   ],
   "source": [
    "texto = 'Olá mundo!'\n",
    "texto_maiúsculo = texto.upper()\n",
    "print(texto_maiúsculo)"
   ]
  },
  {
   "attachments": {},
   "cell_type": "markdown",
   "metadata": {},
   "source": [
    "### lower()\n",
    "\n",
    "A função lower() é um método retorna uma nova string com todos os caracteres convertidos em letras minusculas, mantendo os caracteres que já estavam em minusculas e ignorando aqueles que não são letras."
   ]
  },
  {
   "cell_type": "code",
   "execution_count": 5,
   "metadata": {},
   "outputs": [
    {
     "name": "stdout",
     "output_type": "stream",
     "text": [
      "olá mundo!\n"
     ]
    }
   ],
   "source": [
    "texto = 'Olá mundo!'\n",
    "texto_minusculo = texto.lower()\n",
    "print(texto_minusculo)"
   ]
  },
  {
   "attachments": {},
   "cell_type": "markdown",
   "metadata": {},
   "source": [
    "### capitalize()\n",
    "\n",
    "A função capitalize() é um método que retorna uma nova string convertendo o primeiro caractere de uma string em maiúscula e o restante dos caracteres em minúsculas."
   ]
  },
  {
   "cell_type": "code",
   "execution_count": 6,
   "metadata": {},
   "outputs": [
    {
     "name": "stdout",
     "output_type": "stream",
     "text": [
      "Olá, mundo!\n"
     ]
    }
   ],
   "source": [
    "texto = \"olá, mundo!\"\n",
    "texto_capitalizado = texto.capitalize()\n",
    "print(texto_capitalizado)"
   ]
  },
  {
   "attachments": {},
   "cell_type": "markdown",
   "metadata": {},
   "source": [
    "### strip()\n",
    "\n",
    "A função strip() é um método que retorna uma nova string removendo os espaços em branco (espaços, tabulações e quebras de linha) do início e do fim de uma string"
   ]
  },
  {
   "cell_type": "code",
   "execution_count": 7,
   "metadata": {},
   "outputs": [
    {
     "name": "stdout",
     "output_type": "stream",
     "text": [
      "Olá, mundo!\n"
     ]
    }
   ],
   "source": [
    "texto = \"   Olá, mundo!   \"\n",
    "texto_sem_espaços = texto.strip()\n",
    "print(texto_sem_espaços)"
   ]
  },
  {
   "attachments": {},
   "cell_type": "markdown",
   "metadata": {},
   "source": [
    "Existem variações que permitem remover apenas espaços em branco no início ou no fim da string.\n",
    "lstrip(): Remove os espaços no início da string.\n",
    "rstrip(): Remove os espaços no final da string.\n",
    "\n",
    "Você também pode especificar"
   ]
  },
  {
   "cell_type": "code",
   "execution_count": 8,
   "metadata": {},
   "outputs": [
    {
     "name": "stdout",
     "output_type": "stream",
     "text": [
      "Olá, mundo!\n"
     ]
    }
   ],
   "source": [
    "texto = \"###Olá, mundo!###\"\n",
    "texto_sem_caracteres = texto.strip(\"#\")\n",
    "print(texto_sem_caracteres)"
   ]
  },
  {
   "attachments": {},
   "cell_type": "markdown",
   "metadata": {},
   "source": [
    "### split()\n",
    "\n",
    "A função split() é um método que retorna uma lista, dividindo uma string em substrings com base em um separador especificado."
   ]
  },
  {
   "cell_type": "code",
   "execution_count": 9,
   "metadata": {},
   "outputs": [
    {
     "name": "stdout",
     "output_type": "stream",
     "text": [
      "['Olá,', 'mundo!']\n"
     ]
    }
   ],
   "source": [
    "texto = \"Olá, mundo!\"\n",
    "palavras = texto.split()\n",
    "print(palavras)"
   ]
  },
  {
   "attachments": {},
   "cell_type": "markdown",
   "metadata": {},
   "source": [
    "Você também pode especificar um separador personalizado para dividir a string."
   ]
  },
  {
   "cell_type": "code",
   "execution_count": 10,
   "metadata": {},
   "outputs": [
    {
     "name": "stdout",
     "output_type": "stream",
     "text": [
      "['maçã', 'pera', 'banana', 'uva']\n"
     ]
    }
   ],
   "source": [
    "texto = \"maçã,pera,banana,uva\"\n",
    "frutas = texto.split(\",\")\n",
    "print(frutas)"
   ]
  },
  {
   "attachments": {},
   "cell_type": "markdown",
   "metadata": {},
   "source": [
    "Além disso é possível especificar um numero máximo de divisões usando o parâmetro maxsplit."
   ]
  },
  {
   "cell_type": "code",
   "execution_count": 11,
   "metadata": {},
   "outputs": [
    {
     "name": "stdout",
     "output_type": "stream",
     "text": [
      "['maçã', 'pera', 'banana,uva']\n"
     ]
    }
   ],
   "source": [
    "texto = \"maçã,pera,banana,uva\"\n",
    "frutas = texto.split(\",\", maxsplit=2)\n",
    "print(frutas)"
   ]
  },
  {
   "attachments": {},
   "cell_type": "markdown",
   "metadata": {},
   "source": [
    "### join()\n",
    "\n",
    "A função join() retorna um string que combina elementos de uma sequencia em uma única string, utilizando um separados específico."
   ]
  },
  {
   "cell_type": "code",
   "execution_count": 12,
   "metadata": {},
   "outputs": [
    {
     "name": "stdout",
     "output_type": "stream",
     "text": [
      "maçã, pera, banana\n"
     ]
    }
   ],
   "source": [
    "lista = ['maçã', 'pera', 'banana']\n",
    "frutas_string = ', '.join(lista)\n",
    "print(frutas_string)"
   ]
  },
  {
   "attachments": {},
   "cell_type": "markdown",
   "metadata": {},
   "source": [
    "A função join() pode ser aplicada a qualquer sequência de strings, como uma lista, uma tupla ou até mesmo uma string com caracteres individuais. Ela permite controlar o separador utilizado para concatenar os elementos."
   ]
  },
  {
   "cell_type": "code",
   "execution_count": 13,
   "metadata": {},
   "outputs": [
    {
     "name": "stdout",
     "output_type": "stream",
     "text": [
      "O-l-á- -m-u-n-d-o-!\n"
     ]
    }
   ],
   "source": [
    "texto = \"Olá mundo!\"\n",
    "texto_junto = '-'.join(texto)\n",
    "print(texto_junto)"
   ]
  },
  {
   "attachments": {},
   "cell_type": "markdown",
   "metadata": {},
   "source": [
    "### replace()\n",
    "\n",
    "A função raplace() retorna uma string substituindo ocorrências de um determinado substring por outra substring em uam string.\n",
    "\n",
    "Os argumentos são os seguintes: replace(substring_antiga, substring_nova, count)\n",
    "Substring_antiga: é a substring que será substituída - Obrigatória.\n",
    "Substring_nova: é a substring que que irá substituir a substring_antiga - Obrigatória.\n",
    "Count: é o argumento que define o numero máximo de substituições a serem realizadas, quando não especificado a função realiza o máximo de substituições - Opcional."
   ]
  },
  {
   "cell_type": "code",
   "execution_count": 14,
   "metadata": {},
   "outputs": [
    {
     "name": "stdout",
     "output_type": "stream",
     "text": [
      "Python é uma linguagem de programação muito incrível\n"
     ]
    }
   ],
   "source": [
    "texto = \"Python é uma linguagem de programação muito poderosa\"\n",
    "novo_texto = texto.replace(\"poderosa\", \"incrível\")\n",
    "print(novo_texto)"
   ]
  },
  {
   "attachments": {},
   "cell_type": "markdown",
   "metadata": {},
   "source": [
    "### startswith()\n",
    "\n",
    "A função startswith verifica se uma string começa com um determinado prefixo.\n",
    "A função retorna True quando a string começa com o prefixo especificado e False caso contrário.\n",
    "\n",
    "Esta função possuiu os seguintes argumentos: startswith(prefixo, início, fim)\n",
    "Prefixo: É o prefixo a ser verificado no início da string, pode ser uma string ou uma tupla de strings = Obrigatório.\n",
    "Início: É o argumento que define o início do índice de verificação - Opcional\n",
    "Fim: É o argumento que define o fim do índice de verificação - Opcional"
   ]
  },
  {
   "cell_type": "code",
   "execution_count": 15,
   "metadata": {},
   "outputs": [
    {
     "name": "stdout",
     "output_type": "stream",
     "text": [
      "True\n",
      "False\n"
     ]
    }
   ],
   "source": [
    "texto = \"Olá, mundo!\"\n",
    "\n",
    "# Verificar se a string começa com um prefixo específico\n",
    "print(texto.startswith(\"Olá\"))\n",
    "print(texto.startswith(\"Mundo\"))"
   ]
  },
  {
   "cell_type": "code",
   "execution_count": 16,
   "metadata": {},
   "outputs": [
    {
     "name": "stdout",
     "output_type": "stream",
     "text": [
      "True\n",
      "True\n",
      "False\n"
     ]
    }
   ],
   "source": [
    "# Verificar se a string começa com qualquer um dos prefixos especificados\n",
    "print(texto.startswith((\"Olá\", \"Oi\")))\n",
    "print(texto.startswith((\"Oi\", \"Olá\")))\n",
    "print(texto.startswith((\"Oi\", \"Tchau\")))"
   ]
  },
  {
   "cell_type": "code",
   "execution_count": 17,
   "metadata": {},
   "outputs": [
    {
     "name": "stdout",
     "output_type": "stream",
     "text": [
      "True\n",
      "False\n"
     ]
    }
   ],
   "source": [
    "# Verificar a partir de um índice específico\n",
    "print(texto.startswith(\"mundo\", 5))\n",
    "print(texto.startswith(\"mundo\", 0))"
   ]
  },
  {
   "cell_type": "code",
   "execution_count": 18,
   "metadata": {},
   "outputs": [
    {
     "name": "stdout",
     "output_type": "stream",
     "text": [
      "True\n",
      "False\n"
     ]
    }
   ],
   "source": [
    "# Verificar até um índice específico\n",
    "print(texto.startswith(\"Olá\", 0, 3))\n",
    "print(texto.startswith(\"Olá\", 0, 2))"
   ]
  },
  {
   "attachments": {},
   "cell_type": "markdown",
   "metadata": {},
   "source": [
    "### endswith()\n",
    "\n",
    "A função endswith verifica se uma string termina com um determinado sufixo.\n",
    "A função retorna True quando a string termina com o sufixo especificado e False caso contrário.\n",
    "\n",
    "Esta função possuiu os seguintes argumentos: endswith(sufixo, início, fim)\n",
    "Sufixo: É o prefixo a ser verificado no final da string, pode ser uma string ou uma tupla de strings = Obrigatório.\n",
    "Início: É o argumento que define o início do índice de verificação - Opcional\n",
    "Fim: É o argumento que define o fim do índice de verificação - Opcional"
   ]
  },
  {
   "cell_type": "code",
   "execution_count": 19,
   "metadata": {},
   "outputs": [
    {
     "name": "stdout",
     "output_type": "stream",
     "text": [
      "True\n",
      "True\n"
     ]
    }
   ],
   "source": [
    "texto = \"Olá, mundo!\"\n",
    "\n",
    "# Verificar se a string termina com um sufixo específico\n",
    "print(texto.endswith(\"!\"))\n",
    "print(texto.endswith(\"mundo!\"))"
   ]
  },
  {
   "cell_type": "code",
   "execution_count": 20,
   "metadata": {},
   "outputs": [
    {
     "name": "stdout",
     "output_type": "stream",
     "text": [
      "True\n",
      "True\n",
      "False\n"
     ]
    }
   ],
   "source": [
    "# Verificar se a string termina com qualquer um dos sufixos especificados\n",
    "print(texto.endswith((\"!\", \"?\")))\n",
    "print(texto.endswith((\"!\", \"mundo!\")))\n",
    "print(texto.endswith((\"Olá\", \"Oi\")))"
   ]
  },
  {
   "cell_type": "code",
   "execution_count": 21,
   "metadata": {},
   "outputs": [
    {
     "name": "stdout",
     "output_type": "stream",
     "text": [
      "True\n",
      "False\n"
     ]
    }
   ],
   "source": [
    "# Verificar a partir de um índice específico\n",
    "print(texto.endswith(\"Olá\", 0, 3))\n",
    "print(texto.endswith(\"Olá\", 0, 4))"
   ]
  },
  {
   "cell_type": "code",
   "execution_count": 22,
   "metadata": {},
   "outputs": [
    {
     "name": "stdout",
     "output_type": "stream",
     "text": [
      "False\n",
      "False\n"
     ]
    }
   ],
   "source": [
    "# Verificar até um índice específico\n",
    "print(texto.endswith(\"Olá\", 0, 5))\n",
    "print(texto.endswith(\"Olá\", 0, 6))"
   ]
  }
 ],
 "metadata": {
  "kernelspec": {
   "display_name": "Python 3",
   "language": "python",
   "name": "python3"
  },
  "language_info": {
   "codemirror_mode": {
    "name": "ipython",
    "version": 3
   },
   "file_extension": ".py",
   "mimetype": "text/x-python",
   "name": "python",
   "nbconvert_exporter": "python",
   "pygments_lexer": "ipython3",
   "version": "3.11.1"
  },
  "orig_nbformat": 4
 },
 "nbformat": 4,
 "nbformat_minor": 2
}
