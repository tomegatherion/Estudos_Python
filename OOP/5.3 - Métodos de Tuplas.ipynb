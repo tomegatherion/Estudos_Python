{
 "cells": [
  {
   "attachments": {},
   "cell_type": "markdown",
   "metadata": {},
   "source": [
    "### Métodos\n",
    "\n",
    "# count()"
   ]
  },
  {
   "cell_type": "code",
   "execution_count": 1,
   "metadata": {},
   "outputs": [
    {
     "name": "stdout",
     "output_type": "stream",
     "text": [
      "4\n",
      "3\n"
     ]
    }
   ],
   "source": [
    "tupla_nomes = ('Eduardo', 'Kelly', 'João', 'Elias', 'Kelly',  'Alexander', \n",
    "                'Samuel', 'Kelly', 'João', 'Dione', 'Kelly', 'João' )\n",
    "print(tupla_nomes.count('Kelly'))\n",
    "print(tupla_nomes.count('João'))"
   ]
  },
  {
   "cell_type": "code",
   "execution_count": 2,
   "metadata": {},
   "outputs": [
    {
     "name": "stdout",
     "output_type": "stream",
     "text": [
      "O numero de ocorrências do elemento \"Kelly\" na tupla é: 4\n",
      "O numero de ocorrências do elemento \"João\" na tupla é: 3\n"
     ]
    }
   ],
   "source": [
    "elemento_1 = 'Kelly'\n",
    "elemento_2 = 'João'\n",
    "\n",
    "ocorrências_1 = tupla_nomes.count(elemento_1)\n",
    "ocorrências_2 = tupla_nomes.count(elemento_2)\n",
    "\n",
    "print(f'O numero de ocorrências do elemento \"{elemento_1}\" na tupla é: {ocorrências_1}')\n",
    "print(f'O numero de ocorrências do elemento \"{elemento_2}\" na tupla é: {ocorrências_2}')"
   ]
  },
  {
   "attachments": {},
   "cell_type": "markdown",
   "metadata": {},
   "source": [
    "# index()\n",
    "\n",
    "Pode se exibir o índice de um elemento dentro da tupla utilizando o método index().\n",
    "\n",
    "O método possui 3 argumentos: index(elemento, início, final)\n",
    "\n",
    "elemento: é oque será procurado na tupla - Obrigatório.\n",
    "início: índice inicial de pesquisa - Opcional.\n",
    "final: índice final da pesquisa - Opcional."
   ]
  },
  {
   "cell_type": "code",
   "execution_count": 3,
   "metadata": {},
   "outputs": [
    {
     "name": "stdout",
     "output_type": "stream",
     "text": [
      "1\n",
      "4\n",
      "7\n"
     ]
    }
   ],
   "source": [
    "índice1 = tupla_nomes.index('Kelly')\n",
    "print(índice1)\n",
    "\n",
    "índice2 = tupla_nomes.index('Kelly', 2)\n",
    "print(índice2)\n",
    "\n",
    "índice3 = tupla_nomes.index('Kelly', 7, 12)\n",
    "print(índice3)"
   ]
  }
 ],
 "metadata": {
  "kernelspec": {
   "display_name": "Python 3",
   "language": "python",
   "name": "python3"
  },
  "language_info": {
   "codemirror_mode": {
    "name": "ipython",
    "version": 3
   },
   "file_extension": ".py",
   "mimetype": "text/x-python",
   "name": "python",
   "nbconvert_exporter": "python",
   "pygments_lexer": "ipython3",
   "version": "3.11.1"
  },
  "orig_nbformat": 4
 },
 "nbformat": 4,
 "nbformat_minor": 2
}
